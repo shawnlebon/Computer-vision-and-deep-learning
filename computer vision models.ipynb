{
 "cells": [
  {
   "cell_type": "code",
   "execution_count": 15,
   "metadata": {},
   "outputs": [
    {
     "name": "stderr",
     "output_type": "stream",
     "text": [
      "c:\\Python312\\Lib\\site-packages\\PIL\\Image.py:1000: UserWarning: Palette images with Transparency expressed in bytes should be converted to RGBA images\n",
      "  warnings.warn(\n"
     ]
    },
    {
     "name": "stdout",
     "output_type": "stream",
     "text": [
      "For Random Forest\n",
      "Fitting 3 folds for each of 81 candidates, totalling 243 fits\n",
      "Best parameters for Random Forest:\n",
      "{'clf__max_depth': 20, 'clf__min_samples_leaf': 2, 'clf__min_samples_split': 2, 'clf__n_estimators': 200}\n",
      "Best cross-validation score for Random Forest:\n",
      "0.6226089102801432\n",
      "Classification report for Random Forest:\n",
      "              precision    recall  f1-score   support\n",
      "\n",
      "           0       0.56      0.74      0.64        19\n",
      "           1       0.78      0.78      0.78        18\n",
      "           2       0.75      0.50      0.60        18\n",
      "\n",
      "    accuracy                           0.67        55\n",
      "   macro avg       0.70      0.67      0.67        55\n",
      "weighted avg       0.69      0.67      0.67        55\n",
      "\n",
      "\n",
      "\n",
      "For SVM\n",
      "Fitting 3 folds for each of 24 candidates, totalling 72 fits\n",
      "Best parameters for SVM:\n",
      "{'clf__C': 10, 'clf__gamma': 'scale', 'clf__kernel': 'rbf'}\n",
      "Best cross-validation score for SVM:\n",
      "0.6089102801431568\n",
      "Classification report for SVM:\n",
      "              precision    recall  f1-score   support\n",
      "\n",
      "           0       0.55      0.63      0.59        19\n",
      "           1       0.87      0.72      0.79        18\n",
      "           2       0.67      0.67      0.67        18\n",
      "\n",
      "    accuracy                           0.67        55\n",
      "   macro avg       0.69      0.67      0.68        55\n",
      "weighted avg       0.69      0.67      0.68        55\n",
      "\n",
      "\n",
      "\n",
      "For KNN\n",
      "Fitting 3 folds for each of 12 candidates, totalling 36 fits\n",
      "Best parameters for KNN:\n",
      "{'clf__metric': 'euclidean', 'clf__n_neighbors': 5, 'clf__weights': 'distance'}\n",
      "Best cross-validation score for KNN:\n",
      "0.4954337899543379\n",
      "Classification report for KNN:\n",
      "              precision    recall  f1-score   support\n",
      "\n",
      "           0       0.39      0.68      0.50        19\n",
      "           1       1.00      0.50      0.67        18\n",
      "           2       0.46      0.33      0.39        18\n",
      "\n",
      "    accuracy                           0.51        55\n",
      "   macro avg       0.62      0.51      0.52        55\n",
      "weighted avg       0.61      0.51      0.52        55\n",
      "\n",
      "\n",
      "\n"
     ]
    }
   ],
   "source": [
    "import os\n",
    "import numpy as np\n",
    "from skimage.io import imread\n",
    "from skimage.transform import resize\n",
    "from skimage.feature import hog\n",
    "from skimage.color import rgba2rgb\n",
    "from skimage import exposure\n",
    "from sklearn.model_selection import GridSearchCV\n",
    "from sklearn.pipeline import Pipeline\n",
    "from sklearn.ensemble import RandomForestClassifier\n",
    "from sklearn.svm import SVC\n",
    "from sklearn.neighbors import KNeighborsClassifier\n",
    "from sklearn.metrics import classification_report, confusion_matrix\n",
    "from sklearn.preprocessing import MinMaxScaler\n",
    "from sklearn.decomposition import PCA\n",
    "\n",
    "\n",
    "def load_images(folder):\n",
    "    images = []\n",
    "    labels = []\n",
    "    fruit_mapping = {'apple': 0, 'banana': 1, 'orange': 2}  \n",
    "    valid_extensions = ('.jpg')  \n",
    "\n",
    "    for image_filename in os.listdir(folder):\n",
    "        if not image_filename.lower().endswith(valid_extensions):  \n",
    "            continue\n",
    "        image_path = os.path.join(folder, image_filename)\n",
    "        try:\n",
    "            img = imread(image_path)\n",
    "            if img.shape[-1] == 4:\n",
    "                img = rgba2rgb(img)\n",
    "            img_resized = resize(img, (100, 100))  \n",
    "            feature_vector = extract_features(img_resized)\n",
    "            images.append(feature_vector)\n",
    "            \n",
    "\n",
    "            for fruit in fruit_mapping:\n",
    "                if fruit in image_filename:\n",
    "                    labels.append(fruit_mapping[fruit])\n",
    "                    break\n",
    "        except Exception as e:\n",
    "            print(f\"Error reading {image_path}: {str(e)}\")\n",
    "    return np.array(images), np.array(labels)\n",
    "\n",
    "\n",
    "def extract_features(image):\n",
    "    fd, hog_image = hog(image, orientations=8, pixels_per_cell=(16, 16),\n",
    "                        cells_per_block=(1, 1), visualize=True, channel_axis=-1)\n",
    "    hog_image_rescaled = exposure.rescale_intensity(hog_image, in_range=(0, 10))\n",
    "    return fd.flatten()\n",
    "\n",
    "\n",
    "train_data_dir = 'C:\\\\Users\\\\shawn\\\\Downloads\\\\archive\\\\train'\n",
    "test_data_dir = 'C:\\\\Users\\\\shawn\\\\Downloads\\\\archive\\\\test'\n",
    "\n",
    "X_train, y_train = load_images(train_data_dir)\n",
    "X_test, y_test = load_images(test_data_dir)\n",
    "\n",
    "\n",
    "scaler = MinMaxScaler() \n",
    "X_train_scaled = scaler.fit_transform(X_train)\n",
    "X_test_scaled = scaler.transform(X_test)\n",
    "\n",
    "\n",
    "classifiers = {\n",
    "    'Random Forest': RandomForestClassifier(),\n",
    "    'SVM': SVC(),\n",
    "    'KNN': KNeighborsClassifier()\n",
    "}\n",
    "\n",
    "\n",
    "param_grid = {\n",
    "    'Random Forest': {\n",
    "        'clf__n_estimators': [50, 100, 200],\n",
    "        'clf__max_depth': [None, 10, 20],\n",
    "        'clf__min_samples_split': [2, 5, 10],\n",
    "        'clf__min_samples_leaf': [1, 2, 4]\n",
    "    },\n",
    "    'SVM': {\n",
    "        'clf__C': [0.1, 1, 10],\n",
    "        'clf__gamma': [0.1, 1, 'scale', 'auto'],\n",
    "        'clf__kernel': ['linear', 'rbf']\n",
    "    },\n",
    "    'KNN': {\n",
    "        'clf__n_neighbors': [3, 5, 10],\n",
    "        'clf__weights': ['uniform', 'distance'],\n",
    "        'clf__metric': ['euclidean', 'manhattan']\n",
    "    }\n",
    "}\n",
    "\n",
    "\n",
    "for clf_name, clf in classifiers.items():\n",
    "    print(f\"For {clf_name}\")\n",
    "    pipeline = Pipeline([\n",
    "        ('pca', PCA(n_components=50)), \n",
    "        ('clf', clf)\n",
    "    ])\n",
    "\n",
    "    grid_search = GridSearchCV(pipeline, param_grid[clf_name], n_jobs=-1, verbose=1, cv=3)\n",
    "    grid_search.fit(X_train_scaled, y_train)\n",
    "\n",
    "\n",
    "    print(f\"Best parameters for {clf_name}:\")\n",
    "    print(grid_search.best_params_)\n",
    "    print(f\"Best cross-validation score for {clf_name}:\")\n",
    "    print(grid_search.best_score_)\n",
    "\n",
    "\n",
    "    y_pred = grid_search.predict(X_test_scaled)\n",
    "    print(f\"Classification report for {clf_name}:\")\n",
    "    print(classification_report(y_test, y_pred,zero_division=1))\n",
    "    print(\"\\n\")\n",
    "    \n"
   ]
  },
  {
   "cell_type": "code",
   "execution_count": 16,
   "metadata": {},
   "outputs": [
    {
     "name": "stdout",
     "output_type": "stream",
     "text": [
      "Classification report for SVM:\n",
      "              precision    recall  f1-score   support\n",
      "\n",
      "           0       0.55      0.63      0.59        19\n",
      "           1       0.87      0.72      0.79        18\n",
      "           2       0.67      0.67      0.67        18\n",
      "\n",
      "    accuracy                           0.67        55\n",
      "   macro avg       0.69      0.67      0.68        55\n",
      "weighted avg       0.69      0.67      0.68        55\n",
      "\n"
     ]
    }
   ],
   "source": [
    "best_params = {\n",
    "    'C': 10,\n",
    "    'gamma': 'scale',\n",
    "    'kernel': 'rbf'\n",
    "}\n",
    "\n",
    "svm_model = Pipeline([\n",
    "    ('pca', PCA(n_components=50)),  \n",
    "    ('clf', SVC(C=best_params['C'], gamma=best_params['gamma'], kernel=best_params['kernel']))\n",
    "])\n",
    "\n",
    "\n",
    "svm_model.fit(X_train_scaled, y_train)\n",
    "\n",
    "\n",
    "y_pred = svm_model.predict(X_test_scaled)\n",
    "print(\"Classification report for SVM:\")\n",
    "print(classification_report(y_test, y_pred, zero_division=1))"
   ]
  },
  {
   "cell_type": "code",
   "execution_count": 17,
   "metadata": {},
   "outputs": [
    {
     "name": "stdout",
     "output_type": "stream",
     "text": [
      "[[12  2  5]\n",
      " [ 4 13  1]\n",
      " [ 6  0 12]]\n"
     ]
    }
   ],
   "source": [
    "confusion_matrix=confusion_matrix(y_test,y_pred)\n",
    "print(confusion_matrix)\n"
   ]
  },
  {
   "cell_type": "code",
   "execution_count": 18,
   "metadata": {},
   "outputs": [
    {
     "name": "stdout",
     "output_type": "stream",
     "text": [
      "Accuracy: 0.6727272727272727\n"
     ]
    }
   ],
   "source": [
    "from sklearn.metrics import accuracy_score\n",
    "\n",
    "accuracy = accuracy_score(y_test, y_pred)\n",
    "print(\"Accuracy:\", accuracy)"
   ]
  },
  {
   "cell_type": "code",
   "execution_count": 19,
   "metadata": {},
   "outputs": [
    {
     "data": {
      "image/png": "[encoded data removed]",
      "text/plain": [
       "<Figure size 300x300 with 2 Axes>"
      ]
     },
     "metadata": {},
     "output_type": "display_data"
    }
   ],
   "source": [
    "import seaborn as sns\n",
    "import matplotlib.pyplot as plt\n",
    "plt.figure(figsize=(3,3))\n",
    "sns.heatmap(confusion_matrix, annot=True, fmt=\"d\", cmap=\"Blues\", xticklabels=['Apple', 'Banana', 'Orange'],\n",
    "             yticklabels=['Apple', 'Banana', 'Orange'])\n",
    "plt.ylabel('Actual')\n",
    "plt.xlabel('Predicted')\n",
    "plt.title('Accuracy of image classification model')\n",
    "plt.show()"
   ]
  }
 ],
 "metadata": {
  "kernelspec": {
   "display_name": "Python 3",
   "language": "python",
   "name": "python3"
  },
  "language_info": {
   "codemirror_mode": {
    "name": "ipython",
    "version": 3
   },
   "file_extension": ".py",
   "mimetype": "text/x-python",
   "name": "python",
   "nbconvert_exporter": "python",
   "pygments_lexer": "ipython3",
   "version": "3.12.0"
  }
 },
 "nbformat": 4,
 "nbformat_minor": 2
}
